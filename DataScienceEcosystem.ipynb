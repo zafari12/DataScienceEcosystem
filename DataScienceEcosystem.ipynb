{
  "metadata": {
    "kernelspec": {
      "name": "python",
      "display_name": "Python (Pyodide)",
      "language": "python"
    },
    "language_info": {
      "codemirror_mode": {
        "name": "python",
        "version": 3
      },
      "file_extension": ".py",
      "mimetype": "text/x-python",
      "name": "python",
      "nbconvert_exporter": "python",
      "pygments_lexer": "ipython3",
      "version": "3.8"
    }
  },
  "nbformat_minor": 5,
  "nbformat": 4,
  "cells": [
    {
      "id": "c07af47e-88c2-400a-bc7d-0eb725810693",
      "cell_type": "markdown",
      "source": "# H1:Data Science Tools and Ecosystem\n",
      "metadata": {}
    },
    {
      "id": "5a7f9c49-5344-48e7-868a-9c1dad89d8c0",
      "cell_type": "markdown",
      "source": "## Author\nSoghra Mozafari",
      "metadata": {}
    },
    {
      "id": "de4b4610-b1cc-4779-a26b-83ef96a8cd14",
      "cell_type": "markdown",
      "source": "In this notebook, Data Science Tools and Ecosystem are summarized.",
      "metadata": {}
    },
    {
      "id": "63abfe47-4807-4aac-83cd-55b9af56d732",
      "cell_type": "markdown",
      "source": " **Objectives:**\n some of the key takeaways from the course: \n - List popular languages for Data Science\n - List commonly used libraries in Data Science\n - Create a table of Data Science Tools",
      "metadata": {}
    },
    {
      "id": "78b259ee-8926-43c9-b4c9-19808b6f3e96",
      "cell_type": "markdown",
      "source": "Some of the popular languages that Data Scientists use are:\n1. python\n2. C\n3. Java",
      "metadata": {}
    },
    {
      "id": "062937d2-5970-4f3f-b544-30d9cbde801f",
      "cell_type": "markdown",
      "source": "Some of the commonly used libraries used by Data Scientists include:\n1. pandas\n2. numpy\n3. tensorflow\n4. matplotlib\n5. plotly",
      "metadata": {}
    },
    {
      "id": "36e1c913-e55b-497f-b0cd-84b7899109c6",
      "cell_type": "markdown",
      "source": "|Data Science Tools|\n|------------------|\n|Jupyter notebook |\n|Jupyter lab|\n|Rstudio|\n|Git|",
      "metadata": {}
    },
    {
      "id": "8766e135-277a-476f-b75d-72c5c35beb9e",
      "cell_type": "markdown",
      "source": "### Below are a few examples of evaluating arithmetic expressions in Python",
      "metadata": {}
    },
    {
      "id": "af549a59-00d4-4820-a128-2eb35b57e33f",
      "cell_type": "code",
      "source": "# This a simple arithmetic expression to mutiply then add integers\n(3*4)+5",
      "metadata": {
        "trusted": true
      },
      "outputs": [
        {
          "execution_count": 1,
          "output_type": "execute_result",
          "data": {
            "text/plain": "17"
          },
          "metadata": {}
        }
      ],
      "execution_count": 1
    },
    {
      "id": "36557c2c-aa4f-4834-b179-001c48b19245",
      "cell_type": "code",
      "source": "# This will convert 200 minutes to hours by diving by 60\n200/60",
      "metadata": {
        "trusted": true
      },
      "outputs": [
        {
          "execution_count": 2,
          "output_type": "execute_result",
          "data": {
            "text/plain": "3.3333333333333335"
          },
          "metadata": {}
        }
      ],
      "execution_count": 2
    },
    {
      "id": "c179c227-bc92-4692-8f1d-ac424f297237",
      "cell_type": "code",
      "source": "",
      "metadata": {
        "trusted": true
      },
      "outputs": [],
      "execution_count": null
    }
  ]
}